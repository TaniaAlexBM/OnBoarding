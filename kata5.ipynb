{
 "cells": [
  {
   "cell_type": "markdown",
   "metadata": {},
   "source": [
    "## Distancia entre planetas"
   ]
  },
  {
   "cell_type": "code",
   "execution_count": 4,
   "metadata": {},
   "outputs": [
    {
     "name": "stdout",
     "output_type": "stream",
     "text": [
      "La distancia ente los planetas es: 628949330[km] o 390577534 [mi]\n"
     ]
    }
   ],
   "source": [
    "planeta1 = 149_597_870\n",
    "planeta2 = 778_547_200\n",
    "\n",
    "distancia = abs(planeta1 - planeta2)\n",
    "\n",
    "print(f'La distancia ente los planetas es: {distancia}[km] o {round(distancia * 0.621)} [mi]')"
   ]
  },
  {
   "cell_type": "markdown",
   "metadata": {},
   "source": [
    "## Cadenas a números"
   ]
  },
  {
   "cell_type": "code",
   "execution_count": 5,
   "metadata": {},
   "outputs": [
    {
     "name": "stdout",
     "output_type": "stream",
     "text": [
      "La distancia de los planetas es de 220[km] o 136.62[mi]\n"
     ]
    }
   ],
   "source": [
    "planet1 = int(input('Distancia al Sol del primer planeta en [km]: '))\n",
    "planet2 = int(input('Distancia al Sol del segundo planeta en [km]: '))\n",
    "\n",
    "dist = abs(planet1 - planet2)\n",
    "\n",
    "print(f'La distancia de los planetas es de {dist}[km] o {dist * 0.621}[mi]')"
   ]
  }
 ],
 "metadata": {
  "interpreter": {
   "hash": "32949ae1dcd07a555b56bdf6244f40a0ceb62cc3afe5095a83d9dbae7fc1918a"
  },
  "kernelspec": {
   "display_name": "Python 3.9.10 64-bit (windows store)",
   "language": "python",
   "name": "python3"
  },
  "language_info": {
   "codemirror_mode": {
    "name": "ipython",
    "version": 3
   },
   "file_extension": ".py",
   "mimetype": "text/x-python",
   "name": "python",
   "nbconvert_exporter": "python",
   "pygments_lexer": "ipython3",
   "version": "3.9.10"
  },
  "orig_nbformat": 4
 },
 "nbformat": 4,
 "nbformat_minor": 2
}
