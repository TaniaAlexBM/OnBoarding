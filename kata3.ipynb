{
 "cells": [
  {
   "cell_type": "markdown",
   "metadata": {},
   "source": [
    "## Entrada del asteroide"
   ]
  },
  {
   "cell_type": "code",
   "execution_count": 3,
   "metadata": {},
   "outputs": [
    {
     "name": "stdout",
     "output_type": "stream",
     "text": [
      "¡Precacución: un asteroide está acercándose a la Tierra a 49[km/s]!\n"
     ]
    }
   ],
   "source": [
    "velocidad1 = 49\n",
    "\n",
    "if velocidad1 > 25:\n",
    "    print(f'¡Precacución: un asteroide está acercándose a la Tierra a {velocidad1}[km/s]!')\n",
    "else:\n",
    "    print('No hay peligro')"
   ]
  },
  {
   "cell_type": "code",
   "execution_count": 4,
   "metadata": {},
   "outputs": [
    {
     "name": "stdout",
     "output_type": "stream",
     "text": [
      "No habrá avistamientos de asteroides\n"
     ]
    }
   ],
   "source": [
    "velocidad2 = 19\n",
    "\n",
    "if velocidad2 >=20:\n",
    "    print(f'Hay un rayo de luz por un asteroide que entró a la atmósfera con una velocidad de {velocidad2}[km/s]')\n",
    "else:\n",
    "    print('No habrá avistamientos de asteroides')"
   ]
  },
  {
   "cell_type": "code",
   "execution_count": 16,
   "metadata": {},
   "outputs": [
    {
     "name": "stdout",
     "output_type": "stream",
     "text": [
      "Asteroide de diámetro igual a 30[m] entra con una velocidad de 10[km/s]\n"
     ]
    }
   ],
   "source": [
    "diametro = 30\n",
    "velocidad = 10\n",
    "\n",
    "if (diametro >= 25 and diametro < 1000) or (velocidad > 25):\n",
    "    print(f'Asteroide de diámetro igual a {diametro}[m] entra con una velocidad de {velocidad}[km/s]')\n",
    "elif diametro < 25:\n",
    "    if velocidad < 25 and velocidad >= 20:\n",
    "        print('Podría haber avistamientos de un rayo de luz')\n",
    "else:\n",
    "    print('Sin actividad')\n",
    "        "
   ]
  }
 ],
 "metadata": {
  "interpreter": {
   "hash": "32949ae1dcd07a555b56bdf6244f40a0ceb62cc3afe5095a83d9dbae7fc1918a"
  },
  "kernelspec": {
   "display_name": "Python 3.9.10 64-bit (windows store)",
   "language": "python",
   "name": "python3"
  },
  "language_info": {
   "codemirror_mode": {
    "name": "ipython",
    "version": 3
   },
   "file_extension": ".py",
   "mimetype": "text/x-python",
   "name": "python",
   "nbconvert_exporter": "python",
   "pygments_lexer": "ipython3",
   "version": "3.9.10"
  },
  "orig_nbformat": 4
 },
 "nbformat": 4,
 "nbformat_minor": 2
}
