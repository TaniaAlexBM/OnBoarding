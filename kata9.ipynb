{
 "cells": [
  {
   "cell_type": "markdown",
   "metadata": {},
   "source": [
    "## Combustible"
   ]
  },
  {
   "cell_type": "code",
   "execution_count": 18,
   "metadata": {},
   "outputs": [],
   "source": [
    "def promedio(a,b,c):\n",
    "    p = (a + b + c)/3\n",
    "    return p\n",
    "\n",
    "def combustible(tanque1,tanque2,tanque3):\n",
    "    print(f'''\n",
    "    Tanque 1: {tanque1}\n",
    "    Tanque 2: {tanque2}\n",
    "    Tanque 3: {tanque3}''')\n",
    "    prom = promedio(tanque1,tanque2,tanque3)\n",
    "    return f'Combustible promedio: {prom}'"
   ]
  },
  {
   "cell_type": "code",
   "execution_count": 19,
   "metadata": {},
   "outputs": [
    {
     "name": "stdout",
     "output_type": "stream",
     "text": [
      "\n",
      "    Tanque 1: 9\n",
      "    Tanque 2: 8\n",
      "    Tanque 3: 9\n"
     ]
    },
    {
     "data": {
      "text/plain": [
       "'Combustible promedio: 8.666666666666666'"
      ]
     },
     "execution_count": 19,
     "metadata": {},
     "output_type": "execute_result"
    }
   ],
   "source": [
    "combustible(9,8,9)"
   ]
  },
  {
   "cell_type": "markdown",
   "metadata": {},
   "source": [
    "## Informe"
   ]
  },
  {
   "cell_type": "code",
   "execution_count": 29,
   "metadata": {},
   "outputs": [],
   "source": [
    "def informe(destino, *minutes, **fuel_reservoirs):\n",
    "    print(destino)\n",
    "    suma = sum(minutes)\n",
    "    print(f'Tiempo de vuelo: {suma} jrs')\n",
    "    print('Cantidad de combustible por tanque:')\n",
    "    for tank,reserve in fuel_reservoirs.items():\n",
    "        print(f'{tank}: {reserve} gallons')"
   ]
  },
  {
   "cell_type": "code",
   "execution_count": 30,
   "metadata": {},
   "outputs": [
    {
     "name": "stdout",
     "output_type": "stream",
     "text": [
      "Mars\n",
      "Tiempo de vuelo: 22 jrs\n",
      "Cantidad de combustible por tanque:\n",
      "tank1: 33 gallons\n",
      "tank2: 45 gallons\n"
     ]
    }
   ],
   "source": [
    "informe('Mars', 4,5,6,7, tank1 =33, tank2 = 45)"
   ]
  }
 ],
 "metadata": {
  "interpreter": {
   "hash": "32949ae1dcd07a555b56bdf6244f40a0ceb62cc3afe5095a83d9dbae7fc1918a"
  },
  "kernelspec": {
   "display_name": "Python 3.9.10 64-bit (windows store)",
   "language": "python",
   "name": "python3"
  },
  "language_info": {
   "codemirror_mode": {
    "name": "ipython",
    "version": 3
   },
   "file_extension": ".py",
   "mimetype": "text/x-python",
   "name": "python",
   "nbconvert_exporter": "python",
   "pygments_lexer": "ipython3",
   "version": "3.9.10"
  },
  "orig_nbformat": 4
 },
 "nbformat": 4,
 "nbformat_minor": 2
}
